{
 "cells": [
  {
   "cell_type": "code",
   "execution_count": 1,
   "metadata": {},
   "outputs": [
    {
     "name": "stderr",
     "output_type": "stream",
     "text": [
      "Using TensorFlow backend.\n"
     ]
    }
   ],
   "source": [
    "import pandas as pd\n",
    "import numpy as np\n",
    "import matplotlib.pyplot as plt\n",
    "import humanize as hm\n",
    "from keras.models import Sequential\n",
    "from keras.layers import Dense, Activation\n",
    "%matplotlib inline"
   ]
  },
  {
   "cell_type": "code",
   "execution_count": 3,
   "metadata": {},
   "outputs": [
    {
     "name": "stdout",
     "output_type": "stream",
     "text": [
      "           1960          1961          1962          1963          1964  \\\n",
      "0  1.516557e+10  1.523685e+10  1.992629e+10  2.302148e+10  2.121189e+10   \n",
      "\n",
      "           1965          1966          1967          1968          1969  \\\n",
      "0  2.179004e+10  2.706272e+10  3.059183e+10  3.387588e+10  3.745890e+10   \n",
      "\n",
      "       ...               2007          2008          2009          2010  \\\n",
      "0      ...       1.397084e+12  1.695825e+12  1.667020e+12  2.208872e+12   \n",
      "\n",
      "           2011          2012          2013           2014          2015  \\\n",
      "0  2.616202e+12  2.465189e+12  2.472807e+12  2455993200170  1.803653e+12   \n",
      "\n",
      "           2016  \n",
      "0  1.796187e+12  \n",
      "\n",
      "[1 rows x 57 columns]\n",
      "     1990    1991    1992     1993     1994     1995     1996     1997  \\\n",
      "0  712708  791508  771477  1166188  1426651  1684846  1728558  1931016   \n",
      "\n",
      "      1998     1999   ...        2008     2009     2010     2011     2012  \\\n",
      "0  1546618  1176881   ...     2820963  3141009  3515039  3632974  3801703   \n",
      "\n",
      "      2013     2014     2015     2016     2017  \n",
      "0  3767165  3497818  2568980  2050240  2239659  \n",
      "\n",
      "[1 rows x 28 columns]\n"
     ]
    }
   ],
   "source": [
    "gpdframe = pd.read_csv(\"datasets/gpd.csv\")\n",
    "column_names = np.arange(1990,2018,1)\n",
    "carframe = pd.read_csv(\"datasets/car.csv\",header=None,  names = column_names)\n",
    "car_amount=carframe.values[0]\n",
    "print(gpdframe)\n",
    "print(carframe)"
   ]
  },
  {
   "cell_type": "code",
   "execution_count": null,
   "metadata": {},
   "outputs": [],
   "source": []
  }
 ],
 "metadata": {
  "kernelspec": {
   "display_name": "Python 3",
   "language": "python",
   "name": "python3"
  },
  "language_info": {
   "codemirror_mode": {
    "name": "ipython",
    "version": 3
   },
   "file_extension": ".py",
   "mimetype": "text/x-python",
   "name": "python",
   "nbconvert_exporter": "python",
   "pygments_lexer": "ipython3",
   "version": "3.5.2"
  }
 },
 "nbformat": 4,
 "nbformat_minor": 2
}
