{
 "cells": [
  {
   "cell_type": "code",
   "execution_count": 1,
   "metadata": {},
   "outputs": [
    {
     "name": "stderr",
     "output_type": "stream",
     "text": [
      "Using TensorFlow backend.\n"
     ]
    }
   ],
   "source": [
    "import pandas as pd\n",
    "import numpy as np\n",
    "import matplotlib.pyplot as plt\n",
    "import humanize as hm\n",
    "from keras.models import Sequential\n",
    "from keras.layers import Dense, Activation\n",
    "%matplotlib inline"
   ]
  },
  {
   "cell_type": "code",
   "execution_count": 2,
   "metadata": {},
   "outputs": [
    {
     "name": "stdout",
     "output_type": "stream",
     "text": [
      "           1960          1961          1962          1963          1964  \\\n",
      "0  1.516557e+10  1.523685e+10  1.992629e+10  2.302148e+10  2.121189e+10   \n",
      "\n",
      "           1965          1966          1967          1968          1969  \\\n",
      "0  2.179004e+10  2.706272e+10  3.059183e+10  3.387588e+10  3.745890e+10   \n",
      "\n",
      "       ...               2007          2008          2009          2010  \\\n",
      "0      ...       1.397084e+12  1.695825e+12  1.667020e+12  2.208872e+12   \n",
      "\n",
      "           2011          2012          2013           2014          2015  \\\n",
      "0  2.616202e+12  2.465189e+12  2.472807e+12  2455993200170  1.803653e+12   \n",
      "\n",
      "           2016  \n",
      "0  1.796187e+12  \n",
      "\n",
      "[1 rows x 57 columns]\n",
      "     1990    1991    1992     1993     1994     1995     1996     1997  \\\n",
      "0  712708  791508  771477  1166188  1426651  1684846  1728558  1931016   \n",
      "\n",
      "      1998     1999   ...        2008     2009     2010     2011     2012  \\\n",
      "0  1546618  1176881   ...     2820963  3141009  3515039  3632974  3801703   \n",
      "\n",
      "      2013     2014     2015     2016     2017  \n",
      "0  3767165  3497818  2568980  2050240  2239659  \n",
      "\n",
      "[1 rows x 28 columns]\n"
     ]
    }
   ],
   "source": [
    "gdpframe = pd.read_csv(\"datasets/gdp.csv\")\n",
    "column_names = np.arange(1990,2018,1)\n",
    "carframe = pd.read_csv(\"datasets/car.csv\",header=None,  names = column_names)\n",
    "print(gdpframe)\n",
    "print(carframe)"
   ]
  },
  {
   "cell_type": "code",
   "execution_count": 3,
   "metadata": {},
   "outputs": [],
   "source": [
    "car_amount=carframe.values[0]#carros vendidos por ano\n",
    "gdp_values = gdpframe.values.astype(float)#PIB por ano\n",
    "gdp_values = np.array(gdp_values[0])\n",
    "car_amount_shape=car_amount[0:len(car_amount)-1]#adequanto valores\n",
    "gdp_values_shape =gdp_values[30:len(gdp_values)]#adequando valores"
   ]
  },
  {
   "cell_type": "code",
   "execution_count": 4,
   "metadata": {},
   "outputs": [
    {
     "name": "stdout",
     "output_type": "stream",
     "text": [
      "(27,)\n",
      "(27,)\n"
     ]
    }
   ],
   "source": [
    "print(car_amount_shape.shape)\n",
    "print(gdp_values_shape.shape)"
   ]
  },
  {
   "cell_type": "code",
   "execution_count": 5,
   "metadata": {},
   "outputs": [
    {
     "name": "stdout",
     "output_type": "stream",
     "text": [
      "3.8 million\n",
      "2.6 trillion\n"
     ]
    }
   ],
   "source": [
    "print(hm.intword(max(car_amount_shape)))#imprimindo o maior valor no array\n",
    "print(hm.intword(max(gdp_values_shape)))"
   ]
  },
  {
   "cell_type": "code",
   "execution_count": 6,
   "metadata": {},
   "outputs": [],
   "source": [
    "car_amount_norm=car_amount_shape/(10**6)#fracionando o número inicial\n",
    "gdp_values_norm=gdp_values_shape/(10**12)"
   ]
  },
  {
   "cell_type": "code",
   "execution_count": 7,
   "metadata": {},
   "outputs": [
    {
     "name": "stdout",
     "output_type": "stream",
     "text": [
      "[0.712708 0.791508 0.771477 1.166188 1.426651 1.684846 1.728558 1.931016\n",
      " 1.546618 1.176881 1.411752 1.586928 1.466487 1.431381 1.578836 1.714724\n",
      " 1.925898 2.462605 2.820963 3.141009 3.515039 3.632974 3.801703 3.767165\n",
      " 3.497818 2.56898  2.05024 ]\n",
      "[0.46195178 0.60286    0.40059925 0.43779858 0.558112   0.78564346\n",
      " 0.85042583 0.88319944 0.8637234  0.59938888 0.65542115 0.5593725\n",
      " 0.50796274 0.55832012 0.66931624 0.89162997 1.10764033 1.39708438\n",
      " 1.69582452 1.66701961 2.20887165 2.61620158 2.46518867 2.47280692\n",
      " 2.4559932  1.80365265 1.79618659]\n"
     ]
    }
   ],
   "source": [
    "car_amount=car_amount_norm\n",
    "gdp_values=gdp_values_norm\n",
    "print(car_amount)\n",
    "print(gdp_values)"
   ]
  },
  {
   "cell_type": "code",
   "execution_count": 8,
   "metadata": {},
   "outputs": [
    {
     "data": {
      "image/png": "[encoded data removed]",
      "text/plain": [
       "<matplotlib.figure.Figure at 0x7f9c7cb5bf28>"
      ]
     },
     "metadata": {},
     "output_type": "display_data"
    }
   ],
   "source": [
    "years=np.arange(1990,2017,1)\n",
    "#\n",
    "plt.subplot(221)\n",
    "plt.plot(years,car_amount)\n",
    "plt.title('Venda de Carros 0km')\n",
    "#\n",
    "#\n",
    "plt.subplot(222)\n",
    "plt.plot(years,gdp_values)\n",
    "plt.title('PIB')\n",
    "#\n",
    "plt.subplots_adjust(top=0.92, bottom=0.08, left=0.10, right=0.95, hspace=0.25,\n",
    "                    wspace=0.35)\n",
    "plt.show()"
   ]
  },
  {
   "cell_type": "code",
   "execution_count": 9,
   "metadata": {},
   "outputs": [
    {
     "data": {
      "image/png": "[encoded data removed]",
      "text/plain": [
       "<matplotlib.figure.Figure at 0x7f9c7cb5b0b8>"
      ]
     },
     "metadata": {},
     "output_type": "display_data"
    }
   ],
   "source": [
    "plt.scatter(gdp_values,car_amount)\n",
    "plt.grid(True)\n",
    "plt.xlabel('PIB em Trilhões')\n",
    "plt.ylabel('Carros Vendidos em Milhões ')\n",
    "plt.title('PIB X Carros Vendidos')\n",
    "plt.show()"
   ]
  },
  {
   "cell_type": "code",
   "execution_count": 10,
   "metadata": {},
   "outputs": [],
   "source": [
    "model = Sequential()#definindo o modelo\n",
    "model.add(Dense(1, input_dim=1))#tipo de camada\n",
    "model.add(Activation('linear'))#ativação\n",
    "model.compile(optimizer='sgd',loss='mse')#otimização\n",
    "model.fit(gdp_values,car_amount,epochs=100,verbose=0);#execução"
   ]
  },
  {
   "cell_type": "code",
   "execution_count": 11,
   "metadata": {},
   "outputs": [],
   "source": [
    "weights = model.layers[0].get_weights()\n",
    "w = weights[0][0][0]\n",
    "b = weights[1][0]"
   ]
  },
  {
   "cell_type": "code",
   "execution_count": 12,
   "metadata": {},
   "outputs": [
    {
     "data": {
      "image/png": "[encoded data removed]",
      "text/plain": [
       "<matplotlib.figure.Figure at 0x7f9c76888f28>"
      ]
     },
     "metadata": {},
     "output_type": "display_data"
    }
   ],
   "source": [
    "plt.scatter(gdp_values,car_amount)\n",
    "plt.grid(True)\n",
    "plt.xlabel('PIB em Trilhões')\n",
    "plt.ylabel('Carros Vendidos em Milhões ')\n",
    "plt.title('PIB X Carros Vendidos')\n",
    "plt.plot(gdp_values, w*gdp_values + b, c='red')\n",
    "plt.show()\n"
   ]
  },
  {
   "cell_type": "code",
   "execution_count": null,
   "metadata": {},
   "outputs": [],
   "source": []
  }
 ],
 "metadata": {
  "kernelspec": {
   "display_name": "Python 3",
   "language": "python",
   "name": "python3"
  },
  "language_info": {
   "codemirror_mode": {
    "name": "ipython",
    "version": 3
   },
   "file_extension": ".py",
   "mimetype": "text/x-python",
   "name": "python",
   "nbconvert_exporter": "python",
   "pygments_lexer": "ipython3",
   "version": "3.5.2"
  }
 },
 "nbformat": 4,
 "nbformat_minor": 2
}
